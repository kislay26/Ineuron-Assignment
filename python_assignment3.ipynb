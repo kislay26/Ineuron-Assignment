{
 "cells": [
  {
   "cell_type": "code",
   "execution_count": 10,
   "metadata": {},
   "outputs": [
    {
     "name": "stdout",
     "output_type": "stream",
     "text": [
      "enter numbers whose sum you want:(enter '0' to exit list)34\n",
      "enter numbers whose sum you want:(enter '0' to exit list)35\n",
      "enter numbers whose sum you want:(enter '0' to exit list)32\n",
      "enter numbers whose sum you want:(enter '0' to exit list)678\n",
      "enter numbers whose sum you want:(enter '0' to exit list)0\n",
      "you want sum of these numbers:  [34, 35, 32, 678]\n",
      "sum of these numbers are:  779\n"
     ]
    }
   ],
   "source": [
    "#1.1 Write a Python Program to implement your own myreduce() function which works exactly\n",
    "#    like Python's built-in function reduce() \n",
    "\n",
    "def myfunc():\n",
    "    ''' This functionm will return sum of numbers you will enter'''\n",
    "    number=[0]\n",
    "    sum=0\n",
    "    while number:\n",
    "        inp=int(input(\"enter numbers whose sum you want:\"+\n",
    "                  \"(\"+\"enter '0' to exit list\"+\")\" ))\n",
    "        if inp==0:\n",
    "            \n",
    "            break\n",
    "        number.append(inp)\n",
    "        \n",
    "        \n",
    "        \n",
    "    print(\"you want sum of these numbers: \",number[1:])\n",
    "\n",
    "    for i in number:\n",
    "\n",
    "                  \n",
    "        sum= sum+i\n",
    "    print(\"sum of these numbers are: \",sum)\n",
    "\n",
    "myfunc()\n",
    "\n",
    " "
   ]
  },
  {
   "cell_type": "code",
   "execution_count": 12,
   "metadata": {},
   "outputs": [
    {
     "name": "stdout",
     "output_type": "stream",
     "text": [
      "Please insert the number: 5\n",
      "List of numbers: [1, 2, 3, 4, 5]\n",
      "List of Even numbers are: [2, 4]\n",
      "List of Odd numbers are: [1, 3, 5]\n"
     ]
    }
   ],
   "source": [
    "#1.2 Write a Python program to implement your own myfilter() function which works exactly  \n",
    "#    like Python's built-in function filter()\n",
    "\n",
    "\n",
    "def myfilter(lst):\n",
    "    '''This function will filter even and odd numbers from list'''\n",
    "    number=int(input(\"Please insert the number: \"))\n",
    "    lst=list(range(1,number+1))\n",
    "    \n",
    "    even_list=[]\n",
    "    odd_list=[]\n",
    "    \n",
    "    for i in lst:\n",
    "        if(i%2==0):\n",
    "            even_list.append(i)\n",
    "        else:\n",
    "            odd_list.append(i)\n",
    "                        \n",
    "    return even_list,odd_list\n",
    "\n",
    "\n",
    "\n",
    "output=myfilter(lst)\n",
    "\n",
    "\n",
    "print(\"List of numbers:\",lst)\n",
    "print(\"List of Even numbers are:\",output[0])\n",
    "print(\"List of Odd numbers are:\",output[1])\n"
   ]
  },
  {
   "cell_type": "code",
   "execution_count": 17,
   "metadata": {},
   "outputs": [
    {
     "name": "stdout",
     "output_type": "stream",
     "text": [
      "['A', 'C', 'A', 'D', 'G', 'I', 'L', 'D']\n",
      "['x', 'xx', 'xxx', 'xxxx', 'y', 'yy', 'yyy', 'yyyy', 'z', 'zz', 'zzz', 'zzzz']\n",
      "['x', 'y', 'z', 'xx', 'yy', 'zz', 'xxx', 'yyy', 'zzz', 'xxxx', 'yyyy', 'zzzz']\n",
      "[[2], [3], [4], [3], [4], [5], [4], [5], [6]]\n"
     ]
    }
   ],
   "source": [
    "#Write List comprehensions to produce the following Lists \n",
    "\n",
    "#2.1\n",
    "word=\"AcadGild\"\n",
    "lst=[w.upper() for w in list(word)]\n",
    "print(lst)\n",
    "\n",
    "#2.2\n",
    "word1=list('xyz')\n",
    "word2=[x*n for x in word1 for n in range(1,5) ]\n",
    "print(word2)\n",
    "\n",
    "#2.3\n",
    "word3=[x*n for n in range(1,5) for x in word1 ]\n",
    "print(word3)\n",
    "\n",
    "#2.4\n",
    "number=[2,3,4]\n",
    "number1=[[x+n] for x in number for n in range(0,3)]\n",
    "print(number1)\n",
    "\n"
   ]
  },
  {
   "cell_type": "code",
   "execution_count": null,
   "metadata": {},
   "outputs": [],
   "source": []
  },
  {
   "cell_type": "code",
   "execution_count": null,
   "metadata": {},
   "outputs": [],
   "source": []
  }
 ],
 "metadata": {
  "kernelspec": {
   "display_name": "Python 3",
   "language": "python",
   "name": "python3"
  },
  "language_info": {
   "codemirror_mode": {
    "name": "ipython",
    "version": 3
   },
   "file_extension": ".py",
   "mimetype": "text/x-python",
   "name": "python",
   "nbconvert_exporter": "python",
   "pygments_lexer": "ipython3",
   "version": "3.8.3"
  }
 },
 "nbformat": 4,
 "nbformat_minor": 4
}
